{
 "cells": [
  {
   "cell_type": "code",
   "execution_count": 1,
   "id": "satisfactory-editor",
   "metadata": {},
   "outputs": [],
   "source": [
    "import pandas as pd\n",
    "import numpy as np\n",
    "import os\n",
    "from sklearn.svm import SVC\n",
    "from sklearn.model_selection import RepeatedStratifiedKFold\n",
    "from sklearn import svm\n",
    "from sklearn.svm import LinearSVC\n",
    "from sklearn import model_selection\n",
    "from sklearn.model_selection import cross_val_score\n",
    "from sklearn.model_selection import RepeatedStratifiedKFold\n",
    "from sklearn.svm import SVC\n",
    "from numpy import mean"
   ]
  },
  {
   "cell_type": "code",
   "execution_count": 2,
   "id": "continuous-vocabulary",
   "metadata": {},
   "outputs": [],
   "source": [
    "os.chdir(r'\\Users\\hossa084\\Downloads\\wildfire\\WildFires-master')"
   ]
  },
  {
   "cell_type": "code",
   "execution_count": null,
   "id": "analyzed-mathematics",
   "metadata": {},
   "outputs": [],
   "source": []
  },
  {
   "cell_type": "code",
   "execution_count": null,
   "id": "prescribed-decision",
   "metadata": {},
   "outputs": [],
   "source": []
  },
  {
   "cell_type": "code",
   "execution_count": null,
   "id": "complicated-possession",
   "metadata": {},
   "outputs": [],
   "source": [
    "\n",
    "#creating a function to download a zip and unzip it in my desired location\n",
    "def download_data(dw_url,destination):\n",
    "    import wget\n",
    "    import zipfile\n",
    "    \n",
    "    filename = wget.download(dw_url)\n",
    "    print(\"Successfully downloaded\", filename)\n",
    "    \n",
    "    with zipfile.ZipFile(destination + \"/\" + filename, 'r') as zip_ref:\n",
    "        zip_ref.extractall(destination)"
   ]
  },
  {
   "cell_type": "code",
   "execution_count": null,
   "id": "worst-writer",
   "metadata": {},
   "outputs": [],
   "source": [
    "#using my function\n",
    "download_data('https://github.com/ouladsayadyounes/WildFires/archive/refs/heads/master.zip',r'\\Users\\hossa084\\Downloads\\wildfire\\WildFires-master')"
   ]
  },
  {
   "cell_type": "code",
   "execution_count": null,
   "id": "lined-plain",
   "metadata": {},
   "outputs": [],
   "source": []
  },
  {
   "cell_type": "code",
   "execution_count": null,
   "id": "italian-aside",
   "metadata": {},
   "outputs": [],
   "source": []
  },
  {
   "cell_type": "code",
   "execution_count": null,
   "id": "studied-indicator",
   "metadata": {},
   "outputs": [],
   "source": []
  },
  {
   "cell_type": "code",
   "execution_count": 3,
   "id": "narrative-behavior",
   "metadata": {},
   "outputs": [
    {
     "data": {
      "text/html": [
       "<div>\n",
       "<style scoped>\n",
       "    .dataframe tbody tr th:only-of-type {\n",
       "        vertical-align: middle;\n",
       "    }\n",
       "\n",
       "    .dataframe tbody tr th {\n",
       "        vertical-align: top;\n",
       "    }\n",
       "\n",
       "    .dataframe thead th {\n",
       "        text-align: right;\n",
       "    }\n",
       "</style>\n",
       "<table border=\"1\" class=\"dataframe\">\n",
       "  <thead>\n",
       "    <tr style=\"text-align: right;\">\n",
       "      <th></th>\n",
       "      <th>NDVI</th>\n",
       "      <th>LST</th>\n",
       "      <th>BURNED_AREA</th>\n",
       "      <th>CLASS</th>\n",
       "    </tr>\n",
       "  </thead>\n",
       "  <tbody>\n",
       "    <tr>\n",
       "      <th>0</th>\n",
       "      <td>0.506782</td>\n",
       "      <td>14584.272727</td>\n",
       "      <td>4.692308</td>\n",
       "      <td>no_fire</td>\n",
       "    </tr>\n",
       "    <tr>\n",
       "      <th>1</th>\n",
       "      <td>0.522150</td>\n",
       "      <td>14655.833333</td>\n",
       "      <td>5.000000</td>\n",
       "      <td>no_fire</td>\n",
       "    </tr>\n",
       "    <tr>\n",
       "      <th>2</th>\n",
       "      <td>0.682284</td>\n",
       "      <td>14780.000000</td>\n",
       "      <td>5.000000</td>\n",
       "      <td>fire</td>\n",
       "    </tr>\n",
       "    <tr>\n",
       "      <th>3</th>\n",
       "      <td>0.120046</td>\n",
       "      <td>13298.500000</td>\n",
       "      <td>3.500000</td>\n",
       "      <td>no_fire</td>\n",
       "    </tr>\n",
       "    <tr>\n",
       "      <th>4</th>\n",
       "      <td>0.568734</td>\n",
       "      <td>14743.000000</td>\n",
       "      <td>5.000000</td>\n",
       "      <td>no_fire</td>\n",
       "    </tr>\n",
       "  </tbody>\n",
       "</table>\n",
       "</div>"
      ],
      "text/plain": [
       "       NDVI           LST  BURNED_AREA    CLASS\n",
       "0  0.506782  14584.272727     4.692308  no_fire\n",
       "1  0.522150  14655.833333     5.000000  no_fire\n",
       "2  0.682284  14780.000000     5.000000     fire\n",
       "3  0.120046  13298.500000     3.500000  no_fire\n",
       "4  0.568734  14743.000000     5.000000  no_fire"
      ]
     },
     "execution_count": 3,
     "metadata": {},
     "output_type": "execute_result"
    }
   ],
   "source": [
    "#opening the CSV and viewing part of it\n",
    "wildfires = pd.read_csv('WildFires_DataSet.csv', float_precision='high')\n",
    "wildfires.head()"
   ]
  },
  {
   "cell_type": "code",
   "execution_count": 4,
   "id": "proved-danger",
   "metadata": {},
   "outputs": [],
   "source": [
    "#ML does not like classes that are a string\n",
    "#change the classes to numbers\n",
    "wildfires['CLASS'] = wildfires['CLASS'].map({'fire': 1, 'no_fire': 0})"
   ]
  },
  {
   "cell_type": "code",
   "execution_count": 5,
   "id": "physical-horizon",
   "metadata": {},
   "outputs": [
    {
     "data": {
      "text/plain": [
       "0    0\n",
       "1    0\n",
       "2    1\n",
       "3    0\n",
       "4    0\n",
       "Name: CLASS, dtype: int64"
      ]
     },
     "execution_count": 5,
     "metadata": {},
     "output_type": "execute_result"
    }
   ],
   "source": [
    "#seperating the features from the labels\n",
    "wildfire_features = wildfires.copy()\n",
    "wildfire_labels = wildfire_features.pop('CLASS')\n",
    "wildfire_labels.head()\n",
    "\n"
   ]
  },
  {
   "cell_type": "code",
   "execution_count": 6,
   "id": "important-convert",
   "metadata": {},
   "outputs": [],
   "source": [
    "#create functions to normalize the data for the Neural Net\n",
    "def normalize(x):\n",
    "    x_med = x.median()\n",
    "    x_std = x.std()\n",
    "    x = ((x-x_med)/x_std)\n",
    "    return x\n",
    "\n",
    "def normalize_dataframe(pandas_df):\n",
    "    pandas_df = pandas_df.apply(normalize)\n",
    "    \n",
    "    return pandas_df"
   ]
  },
  {
   "cell_type": "code",
   "execution_count": 7,
   "id": "automotive-smith",
   "metadata": {},
   "outputs": [
    {
     "data": {
      "text/html": [
       "<div>\n",
       "<style scoped>\n",
       "    .dataframe tbody tr th:only-of-type {\n",
       "        vertical-align: middle;\n",
       "    }\n",
       "\n",
       "    .dataframe tbody tr th {\n",
       "        vertical-align: top;\n",
       "    }\n",
       "\n",
       "    .dataframe thead th {\n",
       "        text-align: right;\n",
       "    }\n",
       "</style>\n",
       "<table border=\"1\" class=\"dataframe\">\n",
       "  <thead>\n",
       "    <tr style=\"text-align: right;\">\n",
       "      <th></th>\n",
       "      <th>NDVI</th>\n",
       "      <th>LST</th>\n",
       "      <th>BURNED_AREA</th>\n",
       "    </tr>\n",
       "  </thead>\n",
       "  <tbody>\n",
       "    <tr>\n",
       "      <th>0</th>\n",
       "      <td>-0.628978</td>\n",
       "      <td>-0.167546</td>\n",
       "      <td>-0.391111</td>\n",
       "    </tr>\n",
       "    <tr>\n",
       "      <th>1</th>\n",
       "      <td>-0.463460</td>\n",
       "      <td>0.027480</td>\n",
       "      <td>0.135948</td>\n",
       "    </tr>\n",
       "    <tr>\n",
       "      <th>2</th>\n",
       "      <td>1.261242</td>\n",
       "      <td>0.365876</td>\n",
       "      <td>0.135948</td>\n",
       "    </tr>\n",
       "    <tr>\n",
       "      <th>3</th>\n",
       "      <td>-4.794266</td>\n",
       "      <td>-3.671703</td>\n",
       "      <td>-2.433466</td>\n",
       "    </tr>\n",
       "    <tr>\n",
       "      <th>4</th>\n",
       "      <td>0.038267</td>\n",
       "      <td>0.265038</td>\n",
       "      <td>0.135948</td>\n",
       "    </tr>\n",
       "  </tbody>\n",
       "</table>\n",
       "</div>"
      ],
      "text/plain": [
       "       NDVI       LST  BURNED_AREA\n",
       "0 -0.628978 -0.167546    -0.391111\n",
       "1 -0.463460  0.027480     0.135948\n",
       "2  1.261242  0.365876     0.135948\n",
       "3 -4.794266 -3.671703    -2.433466\n",
       "4  0.038267  0.265038     0.135948"
      ]
     },
     "execution_count": 7,
     "metadata": {},
     "output_type": "execute_result"
    }
   ],
   "source": [
    "wildfire_features = normalize_dataframe(wildfire_features) \n",
    "wildfire_features.head()\n",
    "#now you might be thinking to yourself, \"That's shome pretty shweet data\""
   ]
  },
  {
   "cell_type": "code",
   "execution_count": 8,
   "id": "technical-garlic",
   "metadata": {},
   "outputs": [
    {
     "data": {
      "text/plain": [
       "array([0, 0, 1, ..., 1, 0, 1], dtype=int64)"
      ]
     },
     "execution_count": 8,
     "metadata": {},
     "output_type": "execute_result"
    }
   ],
   "source": [
    "\n",
    "#changing this from a series to values\n",
    "wildfire_labels.values\n"
   ]
  },
  {
   "cell_type": "code",
   "execution_count": 9,
   "id": "robust-passenger",
   "metadata": {},
   "outputs": [
    {
     "data": {
      "text/plain": [
       "array([[-6.28978449e-01, -1.67545939e-01, -3.91111091e-01],\n",
       "       [-4.63459505e-01,  2.74804235e-02,  1.35947705e-01],\n",
       "       [ 1.26124186e+00,  3.65875733e-01,  1.35947705e-01],\n",
       "       ...,\n",
       "       [ 5.15028005e-01,  2.88203790e-01, -3.28993790e+00],\n",
       "       [ 5.30871209e-01, -2.82003661e+00,  7.16010091e-04],\n",
       "       [-1.68922379e-01, -1.02464888e+00,  1.35947705e-01]])"
      ]
     },
     "execution_count": 9,
     "metadata": {},
     "output_type": "execute_result"
    }
   ],
   "source": [
    "wildfire_features = np.array(wildfire_features)\n",
    "wildfire_features"
   ]
  },
  {
   "cell_type": "code",
   "execution_count": 10,
   "id": "champion-simpson",
   "metadata": {},
   "outputs": [],
   "source": [
    "#splitting my features and labels into train and test\n",
    "wf_features_train, wf_features_test, wf_class_train, wf_class_test = model_selection.train_test_split(wildfire_features, wildfire_labels, test_size=0.3)"
   ]
  },
  {
   "cell_type": "code",
   "execution_count": null,
   "id": "pleased-collectible",
   "metadata": {},
   "outputs": [],
   "source": []
  },
  {
   "cell_type": "code",
   "execution_count": null,
   "id": "irish-potato",
   "metadata": {},
   "outputs": [],
   "source": []
  },
  {
   "cell_type": "code",
   "execution_count": null,
   "id": "settled-summary",
   "metadata": {},
   "outputs": [],
   "source": []
  },
  {
   "cell_type": "code",
   "execution_count": 11,
   "id": "involved-printer",
   "metadata": {},
   "outputs": [
    {
     "data": {
      "text/plain": [
       "SVC()"
      ]
     },
     "execution_count": 11,
     "metadata": {},
     "output_type": "execute_result"
    }
   ],
   "source": [
    "# Support Vector Machine\n",
    "SupportVectorMachine = svm.SVC()\n",
    "SupportVectorMachine.fit(wf_features_train, wf_class_train)"
   ]
  },
  {
   "cell_type": "code",
   "execution_count": 12,
   "id": "accompanied-reviewer",
   "metadata": {},
   "outputs": [
    {
     "data": {
      "text/plain": [
       "(array([0, 0, 0, 0, 0, 0, 0, 0, 0, 0], dtype=int64),\n",
       " 1310    0\n",
       " 370     0\n",
       " 1586    0\n",
       " 1081    0\n",
       " 588     0\n",
       " 837     0\n",
       " 609     0\n",
       " 68      0\n",
       " 1556    0\n",
       " 305     0\n",
       " Name: CLASS, dtype: int64)"
      ]
     },
     "execution_count": 12,
     "metadata": {},
     "output_type": "execute_result"
    }
   ],
   "source": [
    "y_pred = SupportVectorMachine.predict(wf_features_test)\n",
    "y_pred[:10],wf_class_test[:10]"
   ]
  },
  {
   "cell_type": "code",
   "execution_count": null,
   "id": "applied-keeping",
   "metadata": {},
   "outputs": [],
   "source": [
    "# for i in y_pred:\n",
    "#     if i > .5:\n",
    "#         print(\"Fire\")\n",
    "#     else:\n",
    "#         print(\"No fire\")"
   ]
  },
  {
   "cell_type": "code",
   "execution_count": 13,
   "id": "breathing-disability",
   "metadata": {},
   "outputs": [
    {
     "name": "stdout",
     "output_type": "stream",
     "text": [
      "[0]\n",
      "[0]\n",
      "[0]\n",
      "[0]\n",
      "[0]\n",
      "[0]\n"
     ]
    }
   ],
   "source": [
    "# Predict\n",
    "print(SupportVectorMachine.predict([[1.27242,0.385876,0.134487]]))\n",
    "print(SupportVectorMachine.predict([[1.461242,0.30876,0.135123]]))\n",
    "print(SupportVectorMachine.predict([[1.261242,0.365876,0.135948]]))\n",
    "print(SupportVectorMachine.predict([[1.461242,0.30876,0.13548]]))\n",
    "print(SupportVectorMachine.predict([[1.261242,0.365876,0.135948]]))\n",
    "print(SupportVectorMachine.predict([[1.261242,0.365876,0.135948]]))"
   ]
  },
  {
   "cell_type": "code",
   "execution_count": 14,
   "id": "primary-plastic",
   "metadata": {},
   "outputs": [
    {
     "name": "stdout",
     "output_type": "stream",
     "text": [
      "SVC()\n",
      "              precision    recall  f1-score   support\n",
      "\n",
      "           0       0.79      0.99      0.88      1327\n",
      "           1       0.77      0.08      0.14       386\n",
      "\n",
      "    accuracy                           0.79      1713\n",
      "   macro avg       0.78      0.54      0.51      1713\n",
      "weighted avg       0.78      0.79      0.71      1713\n",
      "\n"
     ]
    }
   ],
   "source": [
    "from sklearn.metrics import classification_report\n",
    "# fit a SVM model to the data\n",
    "SupportVectorMachine = SVC()\n",
    "SupportVectorMachine.fit(wildfire_features, wildfire_labels)\n",
    "print(SupportVectorMachine)\n",
    "# make predictions\n",
    "expected = wildfire_labels\n",
    "predicted = SupportVectorMachine.predict(wildfire_features)\n",
    "# summarize the fit of the model\n",
    "print(classification_report(expected, predicted))\n"
   ]
  },
  {
   "cell_type": "code",
   "execution_count": 16,
   "id": "matched-harvey",
   "metadata": {},
   "outputs": [
    {
     "name": "stdout",
     "output_type": "stream",
     "text": [
      "Accuracy: 0.783 (0.006)\n"
     ]
    }
   ],
   "source": [
    "from numpy import mean\n",
    "from numpy import std\n",
    "\n",
    "# define evaluation procedure \n",
    "\n",
    "SupportVectorMachine = svm.SVC(gamma='scale')\n",
    "SupportVectorMachine.fit(wf_features_train, wf_class_train)\n",
    "\n",
    "cv = RepeatedStratifiedKFold(n_splits=10, n_repeats=3, random_state=1)\n",
    "\n",
    "# evaluate the model\n",
    "cv = RepeatedStratifiedKFold(n_splits=10, n_repeats=3, random_state=1)\n",
    "n_scores = cross_val_score(SupportVectorMachine, wf_features_test, wf_class_test, scoring='accuracy', cv=cv, n_jobs=-1, error_score='raise')\n",
    "# report performance\n",
    "print('Accuracy: %.3f (%.3f)' % (mean(n_scores), std(n_scores)))"
   ]
  },
  {
   "cell_type": "code",
   "execution_count": null,
   "id": "bulgarian-money",
   "metadata": {},
   "outputs": [],
   "source": []
  },
  {
   "cell_type": "code",
   "execution_count": null,
   "id": "innocent-independence",
   "metadata": {},
   "outputs": [],
   "source": []
  },
  {
   "cell_type": "code",
   "execution_count": null,
   "id": "stable-argentina",
   "metadata": {},
   "outputs": [],
   "source": []
  },
  {
   "cell_type": "code",
   "execution_count": null,
   "id": "duplicate-voltage",
   "metadata": {},
   "outputs": [],
   "source": []
  },
  {
   "cell_type": "code",
   "execution_count": null,
   "id": "cardiac-gathering",
   "metadata": {},
   "outputs": [],
   "source": []
  },
  {
   "cell_type": "code",
   "execution_count": null,
   "id": "incorporate-spoke",
   "metadata": {},
   "outputs": [],
   "source": []
  },
  {
   "cell_type": "code",
   "execution_count": null,
   "id": "progressive-world",
   "metadata": {},
   "outputs": [],
   "source": [
    "# get number of support vectors for each class\n",
    "clf.n_support_"
   ]
  },
  {
   "cell_type": "code",
   "execution_count": null,
   "id": "silent-carpet",
   "metadata": {},
   "outputs": [],
   "source": [
    "# get support vectors\n",
    "clf.support_vectors_"
   ]
  },
  {
   "cell_type": "code",
   "execution_count": null,
   "id": "ongoing-report",
   "metadata": {},
   "outputs": [],
   "source": [
    "# get indices of support vectors\n",
    "clf.support_"
   ]
  },
  {
   "cell_type": "code",
   "execution_count": null,
   "id": "incorrect-great",
   "metadata": {},
   "outputs": [],
   "source": []
  },
  {
   "cell_type": "code",
   "execution_count": null,
   "id": "unusual-practice",
   "metadata": {},
   "outputs": [],
   "source": []
  }
 ],
 "metadata": {
  "kernelspec": {
   "display_name": "Python 3",
   "language": "python",
   "name": "python3"
  },
  "language_info": {
   "codemirror_mode": {
    "name": "ipython",
    "version": 3
   },
   "file_extension": ".py",
   "mimetype": "text/x-python",
   "name": "python",
   "nbconvert_exporter": "python",
   "pygments_lexer": "ipython3",
   "version": "3.8.0"
  }
 },
 "nbformat": 4,
 "nbformat_minor": 5
}
