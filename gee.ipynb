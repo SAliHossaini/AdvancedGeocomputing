{
 "cells": [
  {
   "cell_type": "code",
   "execution_count": null,
   "id": "dietary-block",
   "metadata": {},
   "outputs": [],
   "source": [
    "#!pip install geemap\n",
    "#!pip install ipyleaflet\n"
   ]
  },
  {
   "cell_type": "code",
   "execution_count": 2,
   "id": "executed-glance",
   "metadata": {},
   "outputs": [],
   "source": [
    "import ee\n",
    "import ee; ee.Initialize()\n",
    "import geemap\n",
    "import os\n",
    "import ipyleaflet\n",
    "import numpy as np"
   ]
  },
  {
   "cell_type": "code",
   "execution_count": 84,
   "id": "agreed-niagara",
   "metadata": {},
   "outputs": [
    {
     "data": {
      "application/vnd.jupyter.widget-view+json": {
       "model_id": "3fa1528cfa724a71b856222722c3373f",
       "version_major": 2,
       "version_minor": 0
      },
      "text/plain": [
       "Map(center=[40, -120], controls=(WidgetControl(options=['position', 'transparent_bg'], widget=HBox(children=(T…"
      ]
     },
     "metadata": {},
     "output_type": "display_data"
    }
   ],
   "source": [
    "Map = geemap.Map(center=(40,-120), zoom=5)\n",
    "\n",
    "state = ee.FeatureCollection('TIGER/2018/States').filterMetadata('NAME', 'equals', 'California')\n",
    "stateBoundary = state.geometry()\n",
    "\n",
    "collection = ee.ImageCollection('MODIS/006/MOD13Q1').select('NDVI')\\\n",
    "                  .filter(ee.Filter.date('2018-01-01', '2019-01-01'))\n",
    "\n",
    "\n",
    "ModisNDVI = collection.map(lambda image: image.clip(stateBoundary))\n",
    "\n",
    "ndviVis = {\n",
    "  'min': 0.0,\n",
    "  'max': 8000.0,\n",
    "  'palette': [\n",
    "    'FFFFFF', 'CE7E45', 'DF923D', 'F1B555', 'FCD163', '99B718', '74A901',\n",
    "    '66A000', '529400', '3E8601', '207401', '056201', '004C00', '023B01',\n",
    "    '012E01', '011D01', '011301'\n",
    "  ],\n",
    "}\n",
    "\n",
    "Map.addLayer(ModisNDVI, ndviVis, 'ModisNDVI')\n",
    "Map\n"
   ]
  },
  {
   "cell_type": "code",
   "execution_count": 91,
   "id": "passive-election",
   "metadata": {},
   "outputs": [
    {
     "data": {
      "application/vnd.jupyter.widget-view+json": {
       "model_id": "e49c0e8ba8d54659a4e49fb0d29fff60",
       "version_major": 2,
       "version_minor": 0
      },
      "text/plain": [
       "Map(center=[40, -120], controls=(WidgetControl(options=['position', 'transparent_bg'], widget=HBox(children=(T…"
      ]
     },
     "metadata": {},
     "output_type": "display_data"
    }
   ],
   "source": [
    "Map = geemap.Map(center=(40,-120), zoom=5)\n",
    "\n",
    "state = ee.FeatureCollection('TIGER/2018/States').filterMetadata('NAME', 'equals', 'California')\n",
    "stateBoundary = state.geometry()\n",
    "\n",
    "collection = ee.ImageCollection('MODIS/006/MOD14A1').select('FireMask')\\\n",
    "                  .filter(ee.Filter.date('2018-01-01', '2019-01-01'))\n",
    "\n",
    "\n",
    "ModisTA = collection.map(lambda image: image.clip(stateBoundary))\n",
    "\n",
    "Map.addLayer(ModisTA, {}, 'ModisTA')\n",
    "Map\n"
   ]
  },
  {
   "cell_type": "code",
   "execution_count": 92,
   "id": "steady-salon",
   "metadata": {},
   "outputs": [
    {
     "data": {
      "application/vnd.jupyter.widget-view+json": {
       "model_id": "c46b4e1f73104bf6b7222e39841f0fde",
       "version_major": 2,
       "version_minor": 0
      },
      "text/plain": [
       "Map(center=[40, -120], controls=(WidgetControl(options=['position', 'transparent_bg'], widget=HBox(children=(T…"
      ]
     },
     "metadata": {},
     "output_type": "display_data"
    }
   ],
   "source": [
    "Map = geemap.Map(center=(40,-120), zoom=5)\n",
    "\n",
    "state = ee.FeatureCollection('TIGER/2018/States').filterMetadata('NAME', 'equals', 'California')\n",
    "stateBoundary = state.geometry()\n",
    "\n",
    "collection = ee.ImageCollection('MODIS/006/MOD11A1').select('LST_Day_1km')\\\n",
    "                  .filter(ee.Filter.date('2018-01-01', '2019-01-01'))\n",
    "\n",
    "\n",
    "ModisLST = collection.map(lambda image: image.clip(stateBoundary))\n",
    "\n",
    "Map.addLayer(ModisLST, {}, 'ModisLST')\n",
    "Map\n"
   ]
  },
  {
   "cell_type": "code",
   "execution_count": 93,
   "id": "documented-attention",
   "metadata": {},
   "outputs": [
    {
     "name": "stdout",
     "output_type": "stream",
     "text": [
      "23 364 365\n"
     ]
    }
   ],
   "source": [
    "#Number Of Images \n",
    "n1 = ModisNDVI.size().getInfo();\n",
    "n2 = ModisTA.size().getInfo();\n",
    "n3 = ModisLST.size().getInfo();\n",
    "print(n1,n2,n3)"
   ]
  },
  {
   "cell_type": "code",
   "execution_count": null,
   "id": "polish-march",
   "metadata": {},
   "outputs": [],
   "source": [
    "out_dir = os.path.join(os.path.expanduser('~'), 'Downloads/ModisNDVI')\n",
    "geemap.ee_export_image_collection(ModisNDVI, out_dir=out_dir)"
   ]
  },
  {
   "cell_type": "code",
   "execution_count": null,
   "id": "empty-mozambique",
   "metadata": {},
   "outputs": [],
   "source": [
    "out_dir = os.path.join(os.path.expanduser('~'), 'Downloads/ModisTA')\n",
    "geemap.ee_export_image_collection(ModisTA, out_dir=out_dir)"
   ]
  },
  {
   "cell_type": "code",
   "execution_count": null,
   "id": "developing-broadcast",
   "metadata": {},
   "outputs": [],
   "source": [
    "out_dir = os.path.join(os.path.expanduser('~'), 'Downloads/ModisLST')\n",
    "geemap.ee_export_image_collection(ModisLST, out_dir=out_dir)"
   ]
  }
 ],
 "metadata": {
  "kernelspec": {
   "display_name": "Python 3",
   "language": "python",
   "name": "python3"
  },
  "language_info": {
   "codemirror_mode": {
    "name": "ipython",
    "version": 3
   },
   "file_extension": ".py",
   "mimetype": "text/x-python",
   "name": "python",
   "nbconvert_exporter": "python",
   "pygments_lexer": "ipython3",
   "version": "3.8.0"
  }
 },
 "nbformat": 4,
 "nbformat_minor": 5
}
